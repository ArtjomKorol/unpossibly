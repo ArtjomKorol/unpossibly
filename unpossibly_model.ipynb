{
 "cells": [
  {
   "cell_type": "code",
   "execution_count": 2,
   "metadata": {
    "collapsed": true
   },
   "outputs": [],
   "source": [
    "# 0 - kissinfashion\n",
    "# 1 - instagood\n",
    "# 2 - beautifuldestinations\n",
    "# 3 - etdieucrea\n",
    "# 4 - josecabaco\n",
    "\n",
    "\n",
    "import numpy as np # linear algebra\\n\",\n",
    "import pandas as pd # data processing, CSV file I/O (e.g. pd.read_csv)\n",
    "import matplotlib.pyplot as plt\n",
    "import seaborn as sns\n",
    "from sklearn.model_selection import train_test_split\n",
    "from sklearn.preprocessing import StandardScaler, MinMaxScaler\n",
    "import urllib, cStringIO\n",
    "import json\n",
    "import re\n",
    "import requests\n",
    "from PIL import Image\n",
    "%matplotlib inline\n",
    "\n",
    "\n",
    "email = 'timo261188@gmail.com'\n",
    "token = '2hTlHfBU6sB6QNWB05cfNS9BigqNjzTY'\n",
    "live_api_url = 'http://challenges.instagram.unpossib.ly/api/live'\n",
    "resp = requests.get(live_api_url, auth=(email, token)).json()\n",
    "\n",
    "with open('dataset.json') as data_file:\n",
    "    data = json.load(data_file)\n",
    "    \n",
    "data_array = []\n",
    "y = []\n",
    "\n"
   ]
  },
  {
   "cell_type": "code",
   "execution_count": 3,
   "metadata": {
    "collapsed": false
   },
   "outputs": [],
   "source": [
    "# Import all the data from csv's and skip the data processing steps bellow\n",
    "df = pd.read_csv('dataset_final.csv')\n",
    "y = pd.read_csv('target.csv')"
   ]
  },
  {
   "cell_type": "code",
   "execution_count": null,
   "metadata": {
    "collapsed": true
   },
   "outputs": [],
   "source": [
    "for userId in range(0, len(data)):\n",
    "    print str(userId)\n",
    "    for postId in range(0, len(data[userId]['posts'])):\n",
    "        if postId%100 == 0: print str(postId)\n",
    "        file = cStringIO.StringIO(urllib.urlopen(str(data[userId]['posts'][postId]['instagram']['thumbnail_src'])).read())\n",
    "        testimg = Image.open(file)\n",
    "        img = img_to_matrix(testimg)\n",
    "        data_array.append(flatten_image(img))\n",
    "        y.append(data[userId]['posts'][postId]['instagram']['likes'])"
   ]
  },
  {
   "cell_type": "code",
   "execution_count": 358,
   "metadata": {
    "collapsed": false
   },
   "outputs": [],
   "source": [
    "#Extract average pixel RGB values and their standard deviations for each image\n",
    "\n",
    "import cv2\n",
    "\n",
    "image_features = []\n",
    "y = []\n",
    "\n",
    "for userId in range(0, len(data)):\n",
    "    \n",
    "    for postId in range(0, len(data[userId]['posts'])):\n",
    "        \n",
    "        if postId%100 == 0: print str(postId)\n",
    "            \n",
    "        req = urllib.urlopen(str(data[userId]['posts'][postId]['instagram']['thumbnail_src']))\n",
    "        arr = np.asarray(bytearray(req.read()), dtype=np.uint8)\n",
    "        img = cv2.imdecode(arr,-1) # 'load it as it is'\n",
    "        (means, stds) = cv2.meanStdDev(img)\n",
    "        stats = np.concatenate([means, stds]).flatten()\n",
    "        if len(stats) < 6:\n",
    "            image_features.append([127, 127, 127, 40, 40, 40]) \n",
    "            y.append(data[userId]['posts'][postId]['instagram']['likes']['count'])\n",
    "        else:\n",
    "            image_features.append(stats)\n",
    "            y.append(data[userId]['posts'][postId]['instagram']['likes']['count'])\n"
   ]
  },
  {
   "cell_type": "code",
   "execution_count": 354,
   "metadata": {
    "collapsed": false
   },
   "outputs": [],
   "source": [
    "# Create features linking posts to the accounts\n",
    "\n",
    "df = pd.DataFame(image_features)\n",
    "df.columns = [['R','G','B','stdR','stdG','stdB']]\n",
    "\n",
    "set_arrays = []\n",
    "for i in range(0, 5): set_arrays.append(len(data[i]['posts']))\n",
    "\n",
    "accounts = pd.DataFrame()\n",
    "for i in range(0, 5):\n",
    "    if i == 0:\n",
    "        \n",
    "        x = np.empty(set_arrays[0])\n",
    "        y = np.empty(sum(set_arrays[1:]))\n",
    "        x.fill(1)\n",
    "        y.fill(0)\n",
    "        z = np.concatenate((x, y))\n",
    "        accounts['arr'+str(i+1)] = z[:]\n",
    "        \n",
    "    if i == 1 or 2 or 3:\n",
    "        x = np.empty(sum(set_arrays[0:i]))\n",
    "        y = np.empty(set_arrays[i])\n",
    "        k = np.empty(sum(set_arrays[i+1:]))\n",
    "        x.fill(0)\n",
    "        y.fill(1)\n",
    "        k.fill(0)\n",
    "        z = np.concatenate((x, y))\n",
    "        w = np.concatenate((z, k))\n",
    "        accounts['arr'+str(i+1)] = w[:]\n",
    "        \n",
    "    if i == 4:\n",
    "        x = np.empty(sum(set_arrays[0:4]))\n",
    "        y = np.empty(set_arrays[4])\n",
    "        x.fill(0)\n",
    "        y.fill(1)\n",
    "        z = np.concatenate((x, y))  \n",
    "        accounts['arr'+str(i+1)] = z[:]\n",
    "\n",
    "df = pd.concat([df, accounts], axis = 1)"
   ]
  },
  {
   "cell_type": "code",
   "execution_count": 359,
   "metadata": {
    "collapsed": false
   },
   "outputs": [],
   "source": [
    "# Find most often used words in the captions\n",
    "\n",
    "words = []\n",
    "\n",
    "for userId in range(0, len(data)):\n",
    "    \n",
    "    for postId in range(0, len(data[userId]['posts'])):\n",
    "        \n",
    "        if postId%100 == 0: print str(postId)\n",
    "        \n",
    "        try:\n",
    "            words.append(data[userId]['posts'][postId]['instagram']['caption'].encode('utf-8'))\n",
    "        except:\n",
    "            words.append('empty')\n",
    "            \n",
    "import collections, re\n",
    "\n",
    "bagsofwords = [ collections.Counter(re.findall(r'\\w+', txt))\n",
    "            for txt in words]\n",
    "\n",
    "sumbags = sum(bagsofwords, collections.Counter())\n",
    "\n",
    "import operator\n",
    "sorted_bags = sorted(sumbags.items(), key=operator.itemgetter(1))\n",
    "sorted_bags[-100:] #Look at 100 most frequent"
   ]
  },
  {
   "cell_type": "code",
   "execution_count": null,
   "metadata": {
    "collapsed": true
   },
   "outputs": [],
   "source": [
    "# Encode popular caption words\n",
    "word_array = ['credit','watchthisinstagood','instagood','2instagood','instagood10k','yay','nay','suggested','like','photos','love','empty','soir','bdteam']\n",
    "\n",
    "word_features = []\n",
    "for row in words:\n",
    "    feature_array = [0,0,0,0,0,0,0,0,0,0,0,0,0,0]\n",
    "    row = row.lower().split()\n",
    "    for word in row:\n",
    "        if word in word_array:\n",
    "            feature_array[word_array.index(word)] = 1\n",
    "    word_features.append(feature_array)\n",
    "\n",
    "array = pd.DataFrame(word_features)\n",
    "array.columns = [['credit','watchthisinstagood','instagood','2instagood','instagood10k','yay','nay','suggested','like','photos','love','empty','soir','bdteam']]\n",
    "new_df = pd.concat([df, array], axis = 1)"
   ]
  },
  {
   "cell_type": "code",
   "execution_count": 360,
   "metadata": {
    "collapsed": false
   },
   "outputs": [
    {
     "data": {
      "text/html": [
       "<div>\n",
       "<table border=\"1\" class=\"dataframe\">\n",
       "  <thead>\n",
       "    <tr style=\"text-align: right;\">\n",
       "      <th></th>\n",
       "      <th>R</th>\n",
       "      <th>G</th>\n",
       "      <th>B</th>\n",
       "      <th>stdR</th>\n",
       "      <th>stdG</th>\n",
       "      <th>stdB</th>\n",
       "      <th>acc1</th>\n",
       "      <th>acc2</th>\n",
       "      <th>acc3</th>\n",
       "      <th>acc4</th>\n",
       "      <th>...</th>\n",
       "      <th>instagood10k</th>\n",
       "      <th>yay</th>\n",
       "      <th>nay</th>\n",
       "      <th>suggested</th>\n",
       "      <th>like</th>\n",
       "      <th>photos</th>\n",
       "      <th>love</th>\n",
       "      <th>empty</th>\n",
       "      <th>soir</th>\n",
       "      <th>bdteam</th>\n",
       "    </tr>\n",
       "  </thead>\n",
       "  <tbody>\n",
       "    <tr>\n",
       "      <th>0</th>\n",
       "      <td>204.080117</td>\n",
       "      <td>199.022463</td>\n",
       "      <td>209.127378</td>\n",
       "      <td>63.706204</td>\n",
       "      <td>64.031788</td>\n",
       "      <td>53.264128</td>\n",
       "      <td>1.0</td>\n",
       "      <td>0.0</td>\n",
       "      <td>0.0</td>\n",
       "      <td>0.0</td>\n",
       "      <td>...</td>\n",
       "      <td>0</td>\n",
       "      <td>0</td>\n",
       "      <td>0</td>\n",
       "      <td>0</td>\n",
       "      <td>0</td>\n",
       "      <td>0</td>\n",
       "      <td>0</td>\n",
       "      <td>0</td>\n",
       "      <td>0</td>\n",
       "      <td>0</td>\n",
       "    </tr>\n",
       "    <tr>\n",
       "      <th>1</th>\n",
       "      <td>199.460098</td>\n",
       "      <td>200.949404</td>\n",
       "      <td>179.987881</td>\n",
       "      <td>66.830746</td>\n",
       "      <td>62.663154</td>\n",
       "      <td>67.848041</td>\n",
       "      <td>1.0</td>\n",
       "      <td>0.0</td>\n",
       "      <td>0.0</td>\n",
       "      <td>0.0</td>\n",
       "      <td>...</td>\n",
       "      <td>0</td>\n",
       "      <td>0</td>\n",
       "      <td>0</td>\n",
       "      <td>0</td>\n",
       "      <td>0</td>\n",
       "      <td>0</td>\n",
       "      <td>0</td>\n",
       "      <td>0</td>\n",
       "      <td>0</td>\n",
       "      <td>0</td>\n",
       "    </tr>\n",
       "    <tr>\n",
       "      <th>2</th>\n",
       "      <td>153.531646</td>\n",
       "      <td>156.303948</td>\n",
       "      <td>165.212656</td>\n",
       "      <td>77.806725</td>\n",
       "      <td>76.344574</td>\n",
       "      <td>71.112208</td>\n",
       "      <td>1.0</td>\n",
       "      <td>0.0</td>\n",
       "      <td>0.0</td>\n",
       "      <td>0.0</td>\n",
       "      <td>...</td>\n",
       "      <td>0</td>\n",
       "      <td>0</td>\n",
       "      <td>0</td>\n",
       "      <td>0</td>\n",
       "      <td>0</td>\n",
       "      <td>0</td>\n",
       "      <td>0</td>\n",
       "      <td>0</td>\n",
       "      <td>0</td>\n",
       "      <td>0</td>\n",
       "    </tr>\n",
       "    <tr>\n",
       "      <th>3</th>\n",
       "      <td>152.083032</td>\n",
       "      <td>152.576143</td>\n",
       "      <td>159.240066</td>\n",
       "      <td>66.962074</td>\n",
       "      <td>71.132470</td>\n",
       "      <td>73.454708</td>\n",
       "      <td>1.0</td>\n",
       "      <td>0.0</td>\n",
       "      <td>0.0</td>\n",
       "      <td>0.0</td>\n",
       "      <td>...</td>\n",
       "      <td>0</td>\n",
       "      <td>1</td>\n",
       "      <td>0</td>\n",
       "      <td>0</td>\n",
       "      <td>0</td>\n",
       "      <td>0</td>\n",
       "      <td>0</td>\n",
       "      <td>0</td>\n",
       "      <td>0</td>\n",
       "      <td>0</td>\n",
       "    </tr>\n",
       "    <tr>\n",
       "      <th>4</th>\n",
       "      <td>184.691270</td>\n",
       "      <td>176.546968</td>\n",
       "      <td>172.698362</td>\n",
       "      <td>71.428380</td>\n",
       "      <td>60.898164</td>\n",
       "      <td>59.666383</td>\n",
       "      <td>1.0</td>\n",
       "      <td>0.0</td>\n",
       "      <td>0.0</td>\n",
       "      <td>0.0</td>\n",
       "      <td>...</td>\n",
       "      <td>0</td>\n",
       "      <td>0</td>\n",
       "      <td>0</td>\n",
       "      <td>0</td>\n",
       "      <td>0</td>\n",
       "      <td>0</td>\n",
       "      <td>0</td>\n",
       "      <td>0</td>\n",
       "      <td>0</td>\n",
       "      <td>0</td>\n",
       "    </tr>\n",
       "  </tbody>\n",
       "</table>\n",
       "<p>5 rows × 25 columns</p>\n",
       "</div>"
      ],
      "text/plain": [
       "            R           G           B       stdR       stdG       stdB  acc1  \\\n",
       "0  204.080117  199.022463  209.127378  63.706204  64.031788  53.264128   1.0   \n",
       "1  199.460098  200.949404  179.987881  66.830746  62.663154  67.848041   1.0   \n",
       "2  153.531646  156.303948  165.212656  77.806725  76.344574  71.112208   1.0   \n",
       "3  152.083032  152.576143  159.240066  66.962074  71.132470  73.454708   1.0   \n",
       "4  184.691270  176.546968  172.698362  71.428380  60.898164  59.666383   1.0   \n",
       "\n",
       "   acc2  acc3  acc4   ...    instagood10k  yay  nay  suggested  like  photos  \\\n",
       "0   0.0   0.0   0.0   ...               0    0    0          0     0       0   \n",
       "1   0.0   0.0   0.0   ...               0    0    0          0     0       0   \n",
       "2   0.0   0.0   0.0   ...               0    0    0          0     0       0   \n",
       "3   0.0   0.0   0.0   ...               0    1    0          0     0       0   \n",
       "4   0.0   0.0   0.0   ...               0    0    0          0     0       0   \n",
       "\n",
       "   love  empty  soir  bdteam  \n",
       "0     0      0     0       0  \n",
       "1     0      0     0       0  \n",
       "2     0      0     0       0  \n",
       "3     0      0     0       0  \n",
       "4     0      0     0       0  \n",
       "\n",
       "[5 rows x 25 columns]"
      ]
     },
     "execution_count": 360,
     "metadata": {},
     "output_type": "execute_result"
    }
   ],
   "source": [
    "new_df.head() # dataset will look like this"
   ]
  },
  {
   "cell_type": "code",
   "execution_count": 4,
   "metadata": {
    "collapsed": false
   },
   "outputs": [
    {
     "name": "stdout",
     "output_type": "stream",
     "text": [
      "R2 = 0.935135\n"
     ]
    }
   ],
   "source": [
    "# Apply cross validation\n",
    "from sklearn.model_selection import KFold, cross_val_score\n",
    "from sklearn.linear_model import Ridge\n",
    "kf = KFold(n_splits=5, shuffle=True)\n",
    "\n",
    "clf = Ridge(alpha = 0.1)\n",
    "scores = cross_val_score(clf, df, y, scoring='r2', cv=kf)\n",
    "\n",
    "print(\"R2 = %0.6f\" % scores.mean())"
   ]
  },
  {
   "cell_type": "code",
   "execution_count": 240,
   "metadata": {
    "collapsed": false
   },
   "outputs": [
    {
     "name": "stdout",
     "output_type": "stream",
     "text": [
      "0.936240286227\n"
     ]
    }
   ],
   "source": [
    "from sklearn.model_selection import train_test_split\n",
    "from sklearn.metrics import r2_score\n",
    "\n",
    "X_train, X_test, y_train, y_test = train_test_split(df2[df2.columns[0:-1]], df2[df2.columns[-1]], test_size=0.33, random_state=42)\n",
    "clf = LinearRegression()\n",
    "clf.fit(X_train, y_train)\n",
    "y_pred = clf.predict(X_test)\n",
    "print r2_score(y_test, y_pred)"
   ]
  },
  {
   "cell_type": "code",
   "execution_count": 5,
   "metadata": {
    "collapsed": false
   },
   "outputs": [
    {
     "data": {
      "text/plain": [
       "Ridge(alpha=0.1, copy_X=True, fit_intercept=True, max_iter=None,\n",
       "   normalize=False, random_state=None, solver='auto', tol=0.001)"
      ]
     },
     "execution_count": 5,
     "metadata": {},
     "output_type": "execute_result"
    }
   ],
   "source": [
    "#Train the model\n",
    "clf = Ridge(alpha = 0.1)\n",
    "clf.fit(df, y)"
   ]
  },
  {
   "cell_type": "code",
   "execution_count": 12,
   "metadata": {
    "collapsed": false
   },
   "outputs": [
    {
     "name": "stdout",
     "output_type": "stream",
     "text": [
      "No posts yet...\n",
      "No posts yet...\n",
      "No posts yet...\n",
      "No posts yet...\n",
      "No posts yet...\n",
      "No posts yet...\n",
      "No posts yet...\n",
      "No posts yet...\n",
      "No posts yet...\n",
      "No posts yet...\n",
      "No posts yet...\n",
      "No posts yet...\n",
      "No posts yet...\n",
      "No posts yet...\n",
      "No posts yet...\n",
      "No posts yet...\n",
      "No posts yet...\n",
      "No posts yet...\n",
      "No posts yet...\n",
      "No posts yet...\n",
      "No posts yet...\n",
      "No posts yet...\n",
      "No posts yet...\n",
      "No posts yet...\n",
      "No posts yet...\n",
      "No posts yet...\n",
      "No posts yet...\n",
      "No posts yet...\n",
      "No posts yet...\n",
      "No posts yet...\n",
      "No posts yet...\n",
      "No posts yet...\n",
      "No posts yet...\n",
      "No posts yet...\n",
      "No posts yet...\n",
      "No posts yet...\n",
      "No posts yet...\n",
      "No posts yet...\n",
      "No posts yet...\n",
      "No posts yet...\n",
      "No posts yet...\n",
      "No posts yet...\n",
      "No posts yet...\n",
      "No posts yet...\n",
      "No posts yet...\n",
      "No posts yet...\n",
      "No posts yet...\n",
      "No posts yet...\n",
      "No posts yet...\n",
      "No posts yet...\n",
      "No posts yet...\n",
      "No posts yet...\n",
      "No posts yet...\n",
      "No posts yet...\n",
      "No posts yet...\n",
      "No posts yet...\n",
      "No posts yet...\n",
      "No posts yet...\n",
      "No posts yet...\n",
      "No posts yet...\n"
     ]
    },
    {
     "name": "stderr",
     "output_type": "stream",
     "text": [
      "C:\\Anaconda2\\envs\\gl-env\\lib\\site-packages\\sklearn\\utils\\validation.py:395: DeprecationWarning: Passing 1d arrays as data is deprecated in 0.17 and will raise ValueError in 0.19. Reshape your data either using X.reshape(-1, 1) if your data has a single feature or X.reshape(1, -1) if it contains a single sample.\n",
      "  DeprecationWarning)\n"
     ]
    },
    {
     "name": "stdout",
     "output_type": "stream",
     "text": [
      "{\"success\":true,\"message\":\"Submission saved\"}\n",
      "\n",
      "No posts yet...\n"
     ]
    },
    {
     "name": "stderr",
     "output_type": "stream",
     "text": [
      "C:\\Anaconda2\\envs\\gl-env\\lib\\site-packages\\sklearn\\utils\\validation.py:395: DeprecationWarning: Passing 1d arrays as data is deprecated in 0.17 and will raise ValueError in 0.19. Reshape your data either using X.reshape(-1, 1) if your data has a single feature or X.reshape(1, -1) if it contains a single sample.\n",
      "  DeprecationWarning)\n"
     ]
    },
    {
     "name": "stdout",
     "output_type": "stream",
     "text": [
      "{\"success\":false,\"error\":\"noSubmission\",\"message\":\"Nothing was saved. Maybe you've already submitted for this post\"}\n",
      "No posts yet...\n"
     ]
    },
    {
     "name": "stderr",
     "output_type": "stream",
     "text": [
      "C:\\Anaconda2\\envs\\gl-env\\lib\\site-packages\\sklearn\\utils\\validation.py:395: DeprecationWarning: Passing 1d arrays as data is deprecated in 0.17 and will raise ValueError in 0.19. Reshape your data either using X.reshape(-1, 1) if your data has a single feature or X.reshape(1, -1) if it contains a single sample.\n",
      "  DeprecationWarning)\n"
     ]
    },
    {
     "name": "stdout",
     "output_type": "stream",
     "text": [
      "{\"success\":false,\"error\":\"noSubmission\",\"message\":\"Nothing was saved. Maybe you've already submitted for this post\"}\n",
      "No posts yet...\n"
     ]
    },
    {
     "name": "stderr",
     "output_type": "stream",
     "text": [
      "C:\\Anaconda2\\envs\\gl-env\\lib\\site-packages\\sklearn\\utils\\validation.py:395: DeprecationWarning: Passing 1d arrays as data is deprecated in 0.17 and will raise ValueError in 0.19. Reshape your data either using X.reshape(-1, 1) if your data has a single feature or X.reshape(1, -1) if it contains a single sample.\n",
      "  DeprecationWarning)\n"
     ]
    },
    {
     "name": "stdout",
     "output_type": "stream",
     "text": [
      "{\"success\":false,\"error\":\"noSubmission\",\"message\":\"Nothing was saved. Maybe you've already submitted for this post\"}\n",
      "No posts yet...\n"
     ]
    },
    {
     "name": "stderr",
     "output_type": "stream",
     "text": [
      "C:\\Anaconda2\\envs\\gl-env\\lib\\site-packages\\sklearn\\utils\\validation.py:395: DeprecationWarning: Passing 1d arrays as data is deprecated in 0.17 and will raise ValueError in 0.19. Reshape your data either using X.reshape(-1, 1) if your data has a single feature or X.reshape(1, -1) if it contains a single sample.\n",
      "  DeprecationWarning)\n"
     ]
    },
    {
     "name": "stdout",
     "output_type": "stream",
     "text": [
      "{\"success\":false,\"error\":\"noSubmission\",\"message\":\"Nothing was saved. Maybe you've already submitted for this post\"}\n",
      "No posts yet...\n"
     ]
    },
    {
     "name": "stderr",
     "output_type": "stream",
     "text": [
      "C:\\Anaconda2\\envs\\gl-env\\lib\\site-packages\\sklearn\\utils\\validation.py:395: DeprecationWarning: Passing 1d arrays as data is deprecated in 0.17 and will raise ValueError in 0.19. Reshape your data either using X.reshape(-1, 1) if your data has a single feature or X.reshape(1, -1) if it contains a single sample.\n",
      "  DeprecationWarning)\n"
     ]
    },
    {
     "name": "stdout",
     "output_type": "stream",
     "text": [
      "{\"success\":false,\"error\":\"noSubmission\",\"message\":\"Nothing was saved. Maybe you've already submitted for this post\"}\n",
      "No posts yet...\n"
     ]
    },
    {
     "name": "stderr",
     "output_type": "stream",
     "text": [
      "C:\\Anaconda2\\envs\\gl-env\\lib\\site-packages\\sklearn\\utils\\validation.py:395: DeprecationWarning: Passing 1d arrays as data is deprecated in 0.17 and will raise ValueError in 0.19. Reshape your data either using X.reshape(-1, 1) if your data has a single feature or X.reshape(1, -1) if it contains a single sample.\n",
      "  DeprecationWarning)\n"
     ]
    },
    {
     "name": "stdout",
     "output_type": "stream",
     "text": [
      "{\"success\":false,\"error\":\"noSubmission\",\"message\":\"Nothing was saved. Maybe you've already submitted for this post\"}\n",
      "No posts yet...\n"
     ]
    },
    {
     "name": "stderr",
     "output_type": "stream",
     "text": [
      "C:\\Anaconda2\\envs\\gl-env\\lib\\site-packages\\sklearn\\utils\\validation.py:395: DeprecationWarning: Passing 1d arrays as data is deprecated in 0.17 and will raise ValueError in 0.19. Reshape your data either using X.reshape(-1, 1) if your data has a single feature or X.reshape(1, -1) if it contains a single sample.\n",
      "  DeprecationWarning)\n"
     ]
    },
    {
     "name": "stdout",
     "output_type": "stream",
     "text": [
      "{\"success\":false,\"error\":\"noSubmission\",\"message\":\"Nothing was saved. Maybe you've already submitted for this post\"}\n",
      "No posts yet...\n"
     ]
    },
    {
     "name": "stderr",
     "output_type": "stream",
     "text": [
      "C:\\Anaconda2\\envs\\gl-env\\lib\\site-packages\\sklearn\\utils\\validation.py:395: DeprecationWarning: Passing 1d arrays as data is deprecated in 0.17 and will raise ValueError in 0.19. Reshape your data either using X.reshape(-1, 1) if your data has a single feature or X.reshape(1, -1) if it contains a single sample.\n",
      "  DeprecationWarning)\n"
     ]
    },
    {
     "name": "stdout",
     "output_type": "stream",
     "text": [
      "{\"success\":false,\"error\":\"noSubmission\",\"message\":\"Nothing was saved. Maybe you've already submitted for this post\"}\n",
      "No posts yet...\n"
     ]
    },
    {
     "name": "stderr",
     "output_type": "stream",
     "text": [
      "C:\\Anaconda2\\envs\\gl-env\\lib\\site-packages\\sklearn\\utils\\validation.py:395: DeprecationWarning: Passing 1d arrays as data is deprecated in 0.17 and will raise ValueError in 0.19. Reshape your data either using X.reshape(-1, 1) if your data has a single feature or X.reshape(1, -1) if it contains a single sample.\n",
      "  DeprecationWarning)\n"
     ]
    },
    {
     "name": "stdout",
     "output_type": "stream",
     "text": [
      "{\"success\":false,\"error\":\"noSubmission\",\"message\":\"Nothing was saved. Maybe you've already submitted for this post\"}\n",
      "No posts yet...\n",
      "No posts yet...\n",
      "No posts yet...\n",
      "No posts yet...\n",
      "No posts yet...\n",
      "No posts yet...\n",
      "No posts yet...\n",
      "No posts yet...\n",
      "No posts yet...\n",
      "No posts yet...\n",
      "No posts yet...\n",
      "No posts yet...\n",
      "No posts yet...\n",
      "No posts yet...\n",
      "No posts yet...\n",
      "No posts yet...\n",
      "No posts yet...\n",
      "No posts yet...\n",
      "No posts yet...\n",
      "No posts yet...\n",
      "No posts yet...\n",
      "No posts yet...\n",
      "No posts yet...\n",
      "No posts yet...\n",
      "No posts yet...\n",
      "No posts yet...\n",
      "No posts yet...\n",
      "No posts yet...\n",
      "No posts yet...\n",
      "No posts yet...\n",
      "No posts yet...\n",
      "No posts yet...\n",
      "No posts yet...\n",
      "No posts yet...\n",
      "No posts yet...\n",
      "No posts yet...\n",
      "No posts yet...\n",
      "No posts yet...\n",
      "No posts yet...\n",
      "No posts yet...\n",
      "No posts yet...\n",
      "No posts yet...\n"
     ]
    },
    {
     "ename": "KeyError",
     "evalue": "'caption'",
     "output_type": "error",
     "traceback": [
      "\u001b[1;31m---------------------------------------------------------------------------\u001b[0m",
      "\u001b[1;31mKeyError\u001b[0m                                  Traceback (most recent call last)",
      "\u001b[1;32m<ipython-input-12-2d56103cd79a>\u001b[0m in \u001b[0;36m<module>\u001b[1;34m()\u001b[0m\n\u001b[0;32m     47\u001b[0m \u001b[1;33m\u001b[0m\u001b[0m\n\u001b[0;32m     48\u001b[0m             \u001b[1;31m# Encode popular caption words\u001b[0m\u001b[1;33m\u001b[0m\u001b[1;33m\u001b[0m\u001b[0m\n\u001b[1;32m---> 49\u001b[1;33m             \u001b[0mcaption\u001b[0m \u001b[1;33m=\u001b[0m \u001b[0mresp\u001b[0m\u001b[1;33m[\u001b[0m\u001b[1;34m'accounts'\u001b[0m\u001b[1;33m]\u001b[0m\u001b[1;33m[\u001b[0m\u001b[0mi\u001b[0m\u001b[1;33m]\u001b[0m\u001b[1;33m[\u001b[0m\u001b[1;34m'posts'\u001b[0m\u001b[1;33m]\u001b[0m\u001b[1;33m[\u001b[0m\u001b[1;36m0\u001b[0m\u001b[1;33m]\u001b[0m\u001b[1;33m[\u001b[0m\u001b[1;34m'instagram'\u001b[0m\u001b[1;33m]\u001b[0m\u001b[1;33m[\u001b[0m\u001b[1;34m'caption'\u001b[0m\u001b[1;33m]\u001b[0m\u001b[1;33m.\u001b[0m\u001b[0mencode\u001b[0m\u001b[1;33m(\u001b[0m\u001b[1;34m'utf-8'\u001b[0m\u001b[1;33m)\u001b[0m \u001b[1;31m#get caption\u001b[0m\u001b[1;33m\u001b[0m\u001b[0m\n\u001b[0m\u001b[0;32m     50\u001b[0m             \u001b[0mword_array\u001b[0m \u001b[1;33m=\u001b[0m \u001b[1;33m[\u001b[0m\u001b[1;34m'credit'\u001b[0m\u001b[1;33m,\u001b[0m\u001b[1;34m'watchthisinstagood'\u001b[0m\u001b[1;33m,\u001b[0m\u001b[1;34m'instagood'\u001b[0m\u001b[1;33m,\u001b[0m\u001b[1;34m'2instagood'\u001b[0m\u001b[1;33m,\u001b[0m\u001b[1;34m'instagood10k'\u001b[0m\u001b[1;33m,\u001b[0m\u001b[1;34m'yay'\u001b[0m\u001b[1;33m,\u001b[0m\u001b[1;34m'nay'\u001b[0m\u001b[1;33m,\u001b[0m\u001b[1;34m'suggested'\u001b[0m\u001b[1;33m,\u001b[0m\u001b[1;34m'like'\u001b[0m\u001b[1;33m,\u001b[0m\u001b[1;34m'photos'\u001b[0m\u001b[1;33m,\u001b[0m\u001b[1;34m'love'\u001b[0m\u001b[1;33m,\u001b[0m\u001b[1;34m'empty'\u001b[0m\u001b[1;33m,\u001b[0m\u001b[1;34m'soir'\u001b[0m\u001b[1;33m,\u001b[0m\u001b[1;34m'bdteam'\u001b[0m\u001b[1;33m]\u001b[0m\u001b[1;33m\u001b[0m\u001b[0m\n\u001b[0;32m     51\u001b[0m \u001b[1;33m\u001b[0m\u001b[0m\n",
      "\u001b[1;31mKeyError\u001b[0m: 'caption'"
     ]
    }
   ],
   "source": [
    "#Make submissions\n",
    "import cv2\n",
    "import json\n",
    "import re\n",
    "import requests\n",
    "import itertools\n",
    "from requests.auth import HTTPBasicAuth\n",
    "import time\n",
    "\n",
    "post_id = []\n",
    "\n",
    "while True:\n",
    "    email = 'timo261188@gmail.com'\n",
    "    token = '2hTlHfBU6sB6QNWB05cfNS9BigqNjzTY'\n",
    "    live_api_url = 'http://challenges.instagram.unpossib.ly/api/live'\n",
    "    resp = requests.get(live_api_url, auth=(email, token)).json()\n",
    "    \n",
    "    for i in range(0, 5):\n",
    "        if len(resp['accounts'][i]['posts']) > 0:\n",
    "            post_id = resp['accounts'][i]['posts'][0]['instagram']['id'] #save post id\n",
    "\n",
    "            #process image\n",
    "            req = urllib.urlopen(str(resp['accounts'][i]['posts'][0]['instagram']['thumbnail_src']))\n",
    "            arr = np.asarray(bytearray(req.read()), dtype=np.uint8)\n",
    "            img = cv2.imdecode(arr,-1) # 'load it as it is'\n",
    "            (means, stds) = cv2.meanStdDev(img)\n",
    "            stats = np.concatenate([means, stds]).flatten()\n",
    "\n",
    "            #process account number\n",
    "            # 0 - kissinfashion\n",
    "            # 1 - instagood\n",
    "            # 2 - beautifuldestinations\n",
    "            # 3 - etdieucrea\n",
    "            # 4 - josecabaco\n",
    "\n",
    "            account_array = [0, 0 ,0 ,0 ,0]\n",
    "\n",
    "            if i == 0:\n",
    "                account_array[2] = 1\n",
    "            elif i == 1:\n",
    "                account_array[3] = 1\n",
    "            elif i == 2:\n",
    "                account_array[1] = 1\n",
    "            elif i == 3:\n",
    "                account_array[4] = 1\n",
    "            elif i == 4:\n",
    "                account_array[0] = 1\n",
    "\n",
    "            # Encode popular caption words\n",
    "            caption = resp['accounts'][i]['posts'][0]['instagram']['caption'].encode('utf-8') #get caption\n",
    "            word_array = ['credit','watchthisinstagood','instagood','2instagood','instagood10k','yay','nay','suggested','like','photos','love','empty','soir','bdteam']\n",
    "\n",
    "            feature_array = [0,0,0,0,0,0,0,0,0,0,0,0,0,0]\n",
    "            caption = caption.lower().split()\n",
    "            for word in caption:\n",
    "                if word in word_array:\n",
    "                    feature_array[word_array.index(word)] = 1\n",
    "\n",
    "            #merge features\n",
    "            merge_features = itertools.chain(stats, account_array, feature_array)\n",
    "            merge_features = list(merge_features)\n",
    "            predicted = int(clf.predict(merge_features)[0][0])\n",
    "\n",
    "            #POST\n",
    "            r = requests.post(\"http://challenges.instagram.unpossib.ly/api/submissions\", data=json.dumps({\"post\": str(post_id), \"likes\": predicted}), auth=HTTPBasicAuth(email, token))\n",
    "            print r.text\n",
    "        \n",
    "    time.sleep(60)\n",
    "    print \"No posts yet...\"\n",
    "    continue\n"
   ]
  }
 ],
 "metadata": {
  "kernelspec": {
   "display_name": "Python 2",
   "language": "python",
   "name": "python2"
  },
  "language_info": {
   "codemirror_mode": {
    "name": "ipython",
    "version": 2
   },
   "file_extension": ".py",
   "mimetype": "text/x-python",
   "name": "python",
   "nbconvert_exporter": "python",
   "pygments_lexer": "ipython2",
   "version": "2.7.13"
  }
 },
 "nbformat": 4,
 "nbformat_minor": 0
}
